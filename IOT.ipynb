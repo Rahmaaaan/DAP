{
 "cells": [
  {
   "cell_type": "markdown",
   "id": "0aae316c-5d09-4244-83ce-02300225c891",
   "metadata": {},
   "source": [
    "## 1. Program to read a name and print Hello *< name *>*"
   ]
  },
  {
   "cell_type": "code",
   "execution_count": 23,
   "id": "38570252-55ac-4917-9396-f0382ed94081",
   "metadata": {},
   "outputs": [
    {
     "name": "stdin",
     "output_type": "stream",
     "text": [
      "Please Enter Your Name : Aqueel ur rahman Khan\n"
     ]
    },
    {
     "name": "stdout",
     "output_type": "stream",
     "text": [
      "Hello Aqueel ur rahman Khan\n"
     ]
    }
   ],
   "source": [
    "name = input(\"Please Enter Your Name :\")\n",
    "print(\"Hello \" + name)"
   ]
  },
  {
   "cell_type": "markdown",
   "id": "8634450d-5f5f-4f82-a715-4e6b7eb6a917",
   "metadata": {},
   "source": [
    "## 2. Program to read two numbers and display sum, difference, product and division"
   ]
  },
  {
   "cell_type": "code",
   "execution_count": 6,
   "id": "ae8a332d-ed6c-4042-8e20-f690a9970873",
   "metadata": {},
   "outputs": [
    {
     "name": "stdin",
     "output_type": "stream",
     "text": [
      "Enter First Number:  5\n",
      "Enter Second Number:  10\n"
     ]
    },
    {
     "name": "stdout",
     "output_type": "stream",
     "text": [
      "\n",
      "Sum of given numbers is : 15\n",
      "Difference of given numbers is : -5\n",
      "Product of given numbers is : 50\n",
      "Division of given numbers is : 0.5\n"
     ]
    }
   ],
   "source": [
    "num1 = input(\"Enter First Number:\")\n",
    "num2 = input(\"Enter Second Number:\")\n",
    "\n",
    "print(f\"\\nSum of given numbers is : {str(int(num1) + int(num2))}\")\n",
    "print(f\"Difference of given numbers is : {str(int(num1) - int(num2))}\")\n",
    "print(f\"Product of given numbers is : {str(int(num1) * int(num2))}\")\n",
    "print(f\"Division of given numbers is : {str(int(num1) / int(num2))}\")"
   ]
  },
  {
   "cell_type": "markdown",
   "id": "2bb536c9-7ab3-4a52-a47a-e4ae55a18cb7",
   "metadata": {},
   "source": [
    "## 3. Program to calculate number of words and characters of a given string"
   ]
  },
  {
   "cell_type": "code",
   "execution_count": 10,
   "id": "f21c6a3f-ca3a-48d1-8afe-119745c3a156",
   "metadata": {},
   "outputs": [
    {
     "name": "stdin",
     "output_type": "stream",
     "text": [
      "Enter a sentence: Aqueel ur rahman Khan\n"
     ]
    },
    {
     "name": "stdout",
     "output_type": "stream",
     "text": [
      "Total Numbers of Words in the sentence are: 4\n",
      "Total Numbers of characters in the sentence excluding spaces are: 18\n",
      "Total Numbers of characters in the sentence including spaces are: 21\n"
     ]
    }
   ],
   "source": [
    "words = input(\"Enter a sentence:\").split()\n",
    "\n",
    "word_count = 0\n",
    "character_count = 0\n",
    "\n",
    "for word in words:\n",
    "\tword_count += 1\n",
    "\tcharacter_count += len(word)\n",
    "\t\n",
    "print(f\"Total Numbers of Words in the sentence are: {word_count}\")\n",
    "print(f\"Total Numbers of characters in the sentence excluding spaces are: {character_count}\")\n",
    "print(f\"Total Numbers of characters in the sentence including spaces are: {character_count + word_count - 1}\")"
   ]
  },
  {
   "cell_type": "markdown",
   "id": "b5e8fc75-bb99-4b9b-bd1f-3cdf6daf734d",
   "metadata": {},
   "source": [
    "## 4. Program to get Area of a selected shape.\n",
    "#### a. Rectangle\n",
    "#### b. Triangle\n",
    "#### c. Circle"
   ]
  },
  {
   "cell_type": "code",
   "execution_count": 24,
   "id": "38cf9a89-2886-4e69-acaf-57edf6ae6a34",
   "metadata": {},
   "outputs": [
    {
     "name": "stdout",
     "output_type": "stream",
     "text": [
      "\n",
      "Select the Shape that you want to calculate Area\n",
      "1. Rectangle\n",
      "    2. Triangle\n",
      "    3. Circle \n",
      "    4. Exit\n"
     ]
    },
    {
     "name": "stdin",
     "output_type": "stream",
     "text": [
      "Enter your choice (1-4):  1\n",
      "Enter the length of the Rectangle(meters): 4\n",
      "Enter the breadth of the Rectangle(meters): 5\n"
     ]
    },
    {
     "name": "stdout",
     "output_type": "stream",
     "text": [
      "The area of the Rectangle is 20.0 sqmt\n",
      "\n",
      "Select the Shape that you want to calculate Area\n",
      "1. Rectangle\n",
      "    2. Triangle\n",
      "    3. Circle \n",
      "    4. Exit\n"
     ]
    },
    {
     "name": "stdin",
     "output_type": "stream",
     "text": [
      "Enter your choice (1-4):  4\n"
     ]
    },
    {
     "name": "stdout",
     "output_type": "stream",
     "text": [
      "Thank You\n"
     ]
    }
   ],
   "source": [
    "while True:\n",
    "    print(\"\\nSelect the Shape that you want to calculate Area\")\n",
    "    print(\"\"\"1. Rectangle\n",
    "    2. Triangle\n",
    "    3. Circle \n",
    "    4. Exit\"\"\")\n",
    "    \n",
    "    choice = input(\"Enter your choice (1-4): \")\n",
    "\n",
    "    if choice == '1':\n",
    "        length = float(input(\"Enter the length of the Rectangle(meters):\"))\n",
    "        breadth = float(input(\"Enter the breadth of the Rectangle(meters):\"))\n",
    "        print(f\"The area of the Rectangle is {length * breadth} sqmt\")\n",
    "    \n",
    "    elif choice == '2':\n",
    "        base = float(input(\"Enter the base of the Triangle(meters):\"))\n",
    "        heigth = float(input(\"Enter the heigth of the Triangle(meters):\"))\n",
    "        print(f\"The area of the Triangle is {0.5 * base * height} sqmt\")\n",
    "    \n",
    "    elif choice == '3':\n",
    "        radius = float(input(\"Enter the radius of the Circle(meters):\"))\n",
    "        print(f\"The area of the Circle is {3.14 * radius * radius} sqmt\")\n",
    "    \n",
    "    elif choice == '4':\n",
    "        print(\"Thank You\")\n",
    "        break\n",
    "    \n",
    "    else:\n",
    "        print(\"Please enter a valid number from the menu (1-4)\")"
   ]
  },
  {
   "cell_type": "markdown",
   "id": "c1e19a0b-4979-4787-a504-9ef33cbfcb93",
   "metadata": {},
   "source": [
    "## 5. Program to print a name n times where name and n values has to be input from standard input"
   ]
  },
  {
   "cell_type": "code",
   "execution_count": 25,
   "id": "b098d14a-9609-4e6e-aae6-adb265419e4e",
   "metadata": {
    "scrolled": true
   },
   "outputs": [
    {
     "name": "stdin",
     "output_type": "stream",
     "text": [
      "Enter Your name: Rahman\n",
      "How many times you want to print your name: 4\n"
     ]
    },
    {
     "name": "stdout",
     "output_type": "stream",
     "text": [
      "Rahman\n",
      "Rahman\n",
      "Rahman\n",
      "Rahman\n"
     ]
    }
   ],
   "source": [
    "name = input(\"Enter Your name:\")\n",
    "n = int(input(\"How many times you want to print your name:\"))\n",
    "\n",
    "for i in range(n):\n",
    "    print(name)"
   ]
  },
  {
   "cell_type": "markdown",
   "id": "89a9a561-31bf-4f82-a12b-06ba027bdcb5",
   "metadata": {},
   "source": [
    "## 6. Program to Handle Divide By Zero Exception"
   ]
  },
  {
   "cell_type": "code",
   "execution_count": 19,
   "id": "e8db0439-2cdc-4a3c-9eb8-99582a87c4b6",
   "metadata": {},
   "outputs": [
    {
     "name": "stdin",
     "output_type": "stream",
     "text": [
      "Enter Numerator value: 5\n",
      "Enter Denominator value: 5\n"
     ]
    },
    {
     "name": "stdout",
     "output_type": "stream",
     "text": [
      "\n",
      "The Division of given numbers is 1.0\n"
     ]
    }
   ],
   "source": [
    "numerator = int(input(\"Enter Numerator value:\"))\n",
    "denominator = int(input(\"Enter Denominator value:\"))\n",
    "\n",
    "try:\n",
    "\tprint(f\"\\nThe Division of given numbers is {numerator/denominator}\")\n",
    "except ZeroDivisionError:\n",
    "\tprint(\"\\nDivide By zero Error. The Denominator should not be Zero\")"
   ]
  },
  {
   "cell_type": "markdown",
   "id": "74ce1d97-aaf4-4e82-9e4d-f13d87de23d0",
   "metadata": {},
   "source": [
    "## 7. Program to print current time with an interval of 10 seconds"
   ]
  },
  {
   "cell_type": "code",
   "execution_count": 22,
   "id": "7a2b0ab3-29e3-440f-9dcc-f2b3d2d31baf",
   "metadata": {},
   "outputs": [
    {
     "name": "stdout",
     "output_type": "stream",
     "text": [
      "Local time: Thu Apr 24 02:29:44 2025\n",
      "Local time: Thu Apr 24 02:29:54 2025\n",
      "Local time: Thu Apr 24 02:30:04 2025\n",
      "Local time: Thu Apr 24 02:30:14 2025\n",
      "Local time: Thu Apr 24 02:30:24 2025\n",
      "Local time: Thu Apr 24 02:30:34 2025\n",
      "Local time: Thu Apr 24 02:30:44 2025\n",
      "Local time: Thu Apr 24 02:30:54 2025\n",
      "Local time: Thu Apr 24 02:31:04 2025\n",
      "Local time: Thu Apr 24 02:31:14 2025\n"
     ]
    }
   ],
   "source": [
    "import time\n",
    "for i in range(10):\n",
    "\tseconds = time.time() #it will give to you as a float values\n",
    "\tlocal_time = time.ctime(seconds) #it will gives to you as a current local time\n",
    "\tprint(\"Local time:\", local_time)\n",
    "\ttime.sleep(10)"
   ]
  },
  {
   "cell_type": "markdown",
   "id": "bc5fd178-686c-4a68-b687-8850afabb1f2",
   "metadata": {},
   "source": [
    "## 2. program to Take input from two switches and switch on corresponding LEDs"
   ]
  },
  {
   "cell_type": "code",
   "execution_count": null,
   "id": "7dad1179-f46b-44f2-ab2d-a4c158d7ef27",
   "metadata": {},
   "outputs": [],
   "source": [
    "import time\n",
    "import RPi.GPIO as gpio\n",
    "\n",
    "gpio.setwarnings(False)\n",
    "gpio.setmode(gpio.BOARD)\n",
    "\n",
    "led1 = 15  # P15\n",
    "led2 = 13  # P13\n",
    "switch1 = 37  # P37\n",
    "switch2 = 35  # P35\n",
    "\n",
    "gpio.setup(led1, gpio.OUT, initial=1)\n",
    "gpio.setup(led2, gpio.OUT, initial=1)\n",
    "gpio.setup(switch1, gpio.IN)\n",
    "gpio.setup(switch2, gpio.IN)\n",
    "    \n",
    "def glow_led(event):\n",
    "    if event == switch1 :\n",
    "        gpio.output(led1, False)\n",
    "        time.sleep(3)\n",
    "        gpio.output(led1, True)\n",
    "    \n",
    "    elif event == switch2 :\n",
    "        gpio.output(led2, False)\n",
    "        time.sleep(3) \n",
    "        gpio.output(led2, True)\n",
    "        \n",
    "gpio.add_event_detect(switch1, gpio.RISING , callback = glow_led, bouncetime = 1)\n",
    "gpio.add_event_detect(switch2, gpio.RISING , callback = glow_led, bouncetime = 1)\n",
    "\n",
    "try:\n",
    "    while(True):\n",
    "       time.sleep(1)\n",
    "except KeyboardInterrupt:\n",
    "    gpio.cleanup()"
   ]
  },
  {
   "cell_type": "markdown",
   "id": "c19b268c-621a-410c-9169-3d738f5186dc",
   "metadata": {},
   "source": [
    "## 3. Program to switch ON and Switch off led for corresponding delay times provided in file."
   ]
  },
  {
   "cell_type": "code",
   "execution_count": null,
   "id": "272afb50-dbf2-4dd4-a09e-8af35b829c22",
   "metadata": {},
   "outputs": [],
   "source": [
    "import time\n",
    "import RPi.GPIO as gpio\n",
    "\n",
    "gpio.setwarnings(False)\n",
    "gpio.setmode(gpio.BOARD) \n",
    "\n",
    "led1 = 15  # P15 - pin is connected to LED\n",
    "gpio.setup(led1, gpio.OUT, initial=1)\n",
    "\n",
    "file1 = open('ledintervals.txt', 'r')\n",
    "Lines = file1.readlines()\n",
    "\n",
    "ON_TIME = int(Lines[0].strip().split(\"=\")[1])\n",
    "OFF_TIME = int(Lines[1].strip().split(\"=\")[1])\n",
    "\n",
    "try:\n",
    "    while True:\n",
    "        gpio.output(led1, False)  # LED ON\n",
    "        time.sleep(ON_TIME)\n",
    "        gpio.output(led1, True)   # LED OFF\n",
    "        time.sleep(OFF_TIME)\n",
    "except KeyboardInterrupt:\n",
    "    gpio.cleanup()"
   ]
  },
  {
   "cell_type": "code",
   "execution_count": null,
   "id": "cebf7007-2aab-4a70-8dcc-9cf6206deae6",
   "metadata": {},
   "outputs": [],
   "source": [
    "'ledintervals.txt' file\n",
    "\n",
    "ON_TIME=2\n",
    "OFF_TIME=1"
   ]
  },
  {
   "cell_type": "markdown",
   "id": "b82c7c14-d661-494b-b03f-e845966d591b",
   "metadata": {},
   "source": [
    "## 4. Program to switch on relay at given time using cron."
   ]
  },
  {
   "cell_type": "code",
   "execution_count": null,
   "id": "62e8a2b2-c26a-48c8-a73d-906e923457ba",
   "metadata": {},
   "outputs": [],
   "source": [
    "import time\n",
    "import RPi.GPIO as gpio\n",
    "\n",
    "gpio.setwarnings(False)\n",
    "gpio.setmode(gpio.BOARD)\n",
    "\n",
    "relay1 = 38  # P38\n",
    "gpio.setup(relay1, gpio.OUT, initial=0)\n",
    "\n",
    "try:\n",
    "    gpio.output(relay1, True)\n",
    "    print(\"Relay is Switched On. Please Press ctrl+c to exit\")\n",
    "    time.sleep(15)\n",
    "    print(\"Relay is Switched Off.\")\n",
    "    gpio.output(relay1, False)\n",
    "except KeyboardInterrupt:\n",
    "    print(\"Program interrupted by user.\"):\n",
    "    gpio.cleanup()\n",
    "    print(\"GPIO cleanup done. Program exited.\")"
   ]
  },
  {
   "cell_type": "markdown",
   "id": "2c8c6ccb-9786-4ac1-86ec-e647913e75c5",
   "metadata": {},
   "source": [
    "## 6. Program  to controlling a light source using web page"
   ]
  },
  {
   "cell_type": "code",
   "execution_count": null,
   "id": "a0141a88-5260-4159-968d-bbddc4340796",
   "metadata": {},
   "outputs": [],
   "source": [
    "import time\n",
    "import datetime\n",
    "import RPi.GPIO as GPIO \n",
    "from flask import Flask, render_template\n",
    "\n",
    "led = 15  # P15\n",
    "GPIO.setmode(GPIO.BOARD)\n",
    "GPIO.setwarnings(False)\n",
    "GPIO.setup(led, GPIO.OUT, initial=1)\n",
    "\n",
    "app = Flask(__name__)\n",
    "\n",
    "@app.route('/')\n",
    "def hello_world():\n",
    "    return render_template('web.html')\n",
    "\n",
    "@app.route('/redledon')\n",
    "def redledon():\n",
    "    GPIO.output(led, GPIO.LOW)  # LED ON\n",
    "    now = datetime.datetime.now()\n",
    "    timeString = now.strftime(\"%Y-%m-%d %H:%M\")\n",
    "    templateData = {\n",
    "        'status': 'ON',\n",
    "        'time': timeString\n",
    "    }\n",
    "    return render_template('web.html', **templateData)\n",
    "\n",
    "@app.route('/redledoff')\n",
    "def redledoff():\n",
    "    GPIO.output(led, GPIO.HIGH)  # LED OFF\n",
    "    now = datetime.datetime.now()\n",
    "    timeString = now.strftime(\"%Y-%m-%d %H:%M\")\n",
    "    templateData = {\n",
    "        'status': 'OFF',\n",
    "        'time': timeString\n",
    "    }\n",
    "    return render_template('web.html', **templateData)\n",
    "\n",
    "if __name__ == \"__main__\":\n",
    "    app.run(debug=True, port=4000, host='10.0.4.41')"
   ]
  },
  {
   "cell_type": "code",
   "execution_count": null,
   "id": "9560e67c-1a24-4f21-b627-cf398df5e56f",
   "metadata": {},
   "outputs": [],
   "source": [
    "web.html file 6th program\n",
    "\n",
    "<html>\n",
    "<body>\n",
    "    <h1>Raspberry Pi Remote Control</h1>\n",
    "    <h2>Light Status: {{ status }}, Last Modified: {{ time }}</h2>\n",
    "    \n",
    "    <form action=\"http://10.0.4.41:4000/redledon\">\n",
    "        <input type=\"submit\" value=\"Red LED On\">\n",
    "    </form>\n",
    "    \n",
    "    <form action=\"http://10.0.4.41:4000/redledoff\">\n",
    "        <input type=\"submit\" value=\"Red LED Off\">\n",
    "    </form>\n",
    "</body>\n",
    "</html>"
   ]
  },
  {
   "cell_type": "markdown",
   "id": "9d831689-9fef-4ca4-9f61-dc22a6b0180e",
   "metadata": {},
   "source": [
    "## 7. program  to implement intruder system that sends an alarm to given gmail."
   ]
  },
  {
   "cell_type": "code",
   "execution_count": null,
   "id": "833195cf-144a-4091-92b3-f4816734e43d",
   "metadata": {},
   "outputs": [],
   "source": [
    "import smtplib\n",
    "from email.mime.multipart import MIMEMultipart\n",
    "from email.mime.text import MIMEText\n",
    " \n",
    "FROM_EMAIL = \"rahmankhan082001@gmail.com\" \n",
    "TO_EMAIL = \"therahman14@gmail.com\"\n",
    "EMAIL_PASSWORD = \"lknk urnb oqwc skzm\"\n",
    "\n",
    "def send_email(custom_body):\n",
    "    try:\n",
    "        msg = MIMEMultipart()\n",
    "        msg[\"From\"] = FROM_EMAIL\n",
    "        msg[\"To\"] = TO_EMAIL\n",
    "        msg[\"Subject\"] = \"User message\"\n",
    "        msg.attach(MIMEText(custom_body, 'Plain'))\n",
    "\n",
    "        server = smtplib.SMTP('smtp.gmail.com', 587)\n",
    "        server.starttls()\n",
    "        server.login(FROM_EMAIL, EMAIL_PASSWORD)\n",
    "        server.sendmail(FROM_EMAIL, [TO_EMAIL], msg.as_string())\n",
    "        server.quit()\n",
    "        print(\"Email sent successfully!\")\n",
    "    except Exception as e:\n",
    "        print(\"Failed to sent email\", e)\n",
    "\n",
    "if __name__ == \"__main__\":\n",
    "    custom_message = input(\"Enter your message:\")\n",
    "    send_email(custom_message)"
   ]
  },
  {
   "cell_type": "markdown",
   "id": "9d15b9e8-6da5-4190-ad45-3dbde8c1d743",
   "metadata": {},
   "source": [
    "## 8. program to Read Light Status from remote place."
   ]
  },
  {
   "cell_type": "code",
   "execution_count": null,
   "id": "f9e1c2cb-7686-4a8a-83ee-b17f6a28505a",
   "metadata": {},
   "outputs": [],
   "source": [
    "import time\n",
    "import RPi.GPIO as gpio\n",
    "from flask import Flask, render_template\n",
    "import datetime\n",
    "from threading import Thread\n",
    "\n",
    "app = Flask(__name__)\n",
    "\n",
    "gpio.setwarnings(False)\n",
    "gpio.setmode(gpio.BOARD)\n",
    "\n",
    "led1 = 13\n",
    "switch1 = 35\n",
    "\n",
    "gpio.setup(led1, gpio.OUT, initial=1)  # LED off initially\n",
    "gpio.setup(switch1, gpio.IN)\n",
    "\n",
    "light_status = \"OFF\"\n",
    "\n",
    "def glow_led(event):\n",
    "    print(\"Entered Here\")\n",
    "    global light_status\n",
    "    if event == switch1 and light_status == \"OFF\":\n",
    "        gpio.output(led1, False)\n",
    "        light_status = \"ON\"\n",
    "    elif event == switch1 and light_status == \"ON\":\n",
    "        gpio.output(led1, True)\n",
    "        light_status = \"OFF\"\n",
    "\n",
    "@app.route('/')\n",
    "def ledstatus():\n",
    "    now = datetime.datetime.now()\n",
    "    timeString = now.strftime(\"%H:%M %d-%m-%Y\")\n",
    "    templateData = {\n",
    "      'status': light_status,\n",
    "      'time': timeString\n",
    "      }\n",
    "    return render_template('lightstatus.html', **templateData)\n",
    "\n",
    "gpio.add_event_detect(switch1, gpio.RISING , callback = glow_led, bouncetime = 100)\n",
    "app.run(debug = True, port = 4000, host='127.0.0.1')"
   ]
  },
  {
   "cell_type": "code",
   "execution_count": null,
   "id": "5c672d4c-5bbc-462c-ac8d-5fe3cc88c0e5",
   "metadata": {},
   "outputs": [],
   "source": [
    "lightstatus.html file 8th program\n",
    "\n",
    "<html>\n",
    "<body>\n",
    "    <h1>Raspberry Pi Remote Control</h1>\n",
    "    <h2>Light Status: {{ status }}, Last seen: {{ time }}</h2>\n",
    "    \n",
    "    <form action=\"http://127.0.0.1:4000\">\n",
    "        <input type=\"submit\" value=\"Get light status\">\n",
    "    </form>\n",
    "</body>\n",
    "</html>"
   ]
  },
  {
   "cell_type": "code",
   "execution_count": null,
   "id": "b11f6707-c71b-4fc5-a904-3bbf43b84d2b",
   "metadata": {},
   "outputs": [],
   "source": []
  }
 ],
 "metadata": {
  "kernelspec": {
   "display_name": "Python 3 (ipykernel)",
   "language": "python",
   "name": "python3"
  },
  "language_info": {
   "codemirror_mode": {
    "name": "ipython",
    "version": 3
   },
   "file_extension": ".py",
   "mimetype": "text/x-python",
   "name": "python",
   "nbconvert_exporter": "python",
   "pygments_lexer": "ipython3",
   "version": "3.12.1"
  }
 },
 "nbformat": 4,
 "nbformat_minor": 5
}
